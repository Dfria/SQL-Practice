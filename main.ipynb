{
 "cells": [
  {
   "cell_type": "code",
   "execution_count": 3,
   "metadata": {},
   "outputs": [],
   "source": [
    "import mysql.connector\n",
    "from pprint import pprint\n",
    "\n",
    "mydb = mysql.connector.connect(\n",
    "  host=\"127.0.0.1\",\n",
    "  user=\"root\",\n",
    "  password=\"password\",\n",
    "  database=\"hrdatabase\"\n",
    ")\n",
    "\n",
    "cursor = mydb.cursor()"
   ]
  },
  {
   "attachments": {},
   "cell_type": "markdown",
   "metadata": {},
   "source": [
    "# TABLES: \n",
    "- employee: employee_id, employee_name, department, hire_date, salary\n",
    "- department: department_id, department_name\n",
    "- job: job_id, job_title\n",
    "- job_history: employee_id, job_id, start_date, end_date"
   ]
  },
  {
   "cell_type": "code",
   "execution_count": 5,
   "metadata": {},
   "outputs": [
    {
     "name": "stdout",
     "output_type": "stream",
     "text": [
      "Q1: What are the names of all employees?\n",
      "[('John Smith',),\n",
      " ('Jane Doe',),\n",
      " ('Bob Johnson',),\n",
      " ('Emily Wong',),\n",
      " ('Alex Kim',),\n",
      " ('Sarah Lee',),\n",
      " ('Michael Chen',),\n",
      " ('David Lee',),\n",
      " ('Amanda Liu',),\n",
      " ('Brian Wu',)]\n",
      "\n"
     ]
    }
   ],
   "source": [
    "# Question 1: What are the names of all employees?\n",
    "query = \"SELECT DISTINCT employee_name FROM employee\"\n",
    "cursor.execute(query)\n",
    "result = cursor.fetchall()\n",
    "print(\"Q1: What are the names of all employees?\")\n",
    "pprint(result)\n",
    "print()"
   ]
  },
  {
   "cell_type": "code",
   "execution_count": 6,
   "metadata": {},
   "outputs": [
    {
     "name": "stdout",
     "output_type": "stream",
     "text": [
      "Q2: What is the salary of each employee?\n",
      "[('John Smith', 70000),\n",
      " ('Jane Doe', 90000),\n",
      " ('Bob Johnson', 75000),\n",
      " ('Emily Wong', 80000),\n",
      " ('Alex Kim', 95000),\n",
      " ('Sarah Lee', 85000),\n",
      " ('Michael Chen', 90000),\n",
      " ('David Lee', 78000),\n",
      " ('Amanda Liu', 82000),\n",
      " ('Brian Wu', 88000)]\n",
      "\n"
     ]
    }
   ],
   "source": [
    "# Question 2: What is the salary of each employee?\n",
    "query = \"SELECT employee_name, salary FROM employee\"\n",
    "cursor.execute(query)\n",
    "result = cursor.fetchall()\n",
    "print(\"Q2: What is the salary of each employee?\")\n",
    "pprint(result)\n",
    "print()"
   ]
  },
  {
   "cell_type": "code",
   "execution_count": 7,
   "metadata": {},
   "outputs": [
    {
     "name": "stdout",
     "output_type": "stream",
     "text": [
      "Q3: What are the names and hire dates of all employees who were hired after 01/01/2020?\n",
      "[('Bob Johnson', '2020-05-01'),\n",
      " ('Alex Kim', '2021-02-15'),\n",
      " ('Sarah Lee', '2022-01-01'),\n",
      " ('Michael Chen', '2020-06-15'),\n",
      " ('Amanda Liu', '2021-03-01')]\n",
      "\n"
     ]
    }
   ],
   "source": [
    "# Question 3: What are the names and hire dates of all employees who were hired after 01/01/2020?\n",
    "query = \"SELECT employee_name, hire_date FROM employee WHERE hire_date > '2020-01-01'\"\n",
    "cursor.execute(query)\n",
    "result = cursor.fetchall()\n",
    "print(\"Q3: What are the names and hire dates of all employees who were hired after 01/01/2020?\")\n",
    "pprint(result)\n",
    "print()"
   ]
  },
  {
   "cell_type": "code",
   "execution_count": 9,
   "metadata": {},
   "outputs": [
    {
     "name": "stdout",
     "output_type": "stream",
     "text": [
      "Q4: What are the names and department of all employees who work in the Marketing department?\n",
      "[('Jane Doe', 'Marketing'),\n",
      " ('Alex Kim', 'Marketing'),\n",
      " ('Sarah Lee', 'Marketing'),\n",
      " ('Brian Wu', 'Marketing')]\n",
      "\n"
     ]
    }
   ],
   "source": [
    "# Question 4: What are the names and department of all employees who work in the Marketing department?\n",
    "query = \"SELECT E.employee_name, D.department_name FROM employee E INNER JOIN department D ON E.department_id = D.department_id WHERE D.department_name = 'Marketing'\"\n",
    "cursor.execute(query)\n",
    "result = cursor.fetchall()\n",
    "print(\"Q4: What are the names and department of all employees who work in the Marketing department?\")\n",
    "pprint(result)\n",
    "print()"
   ]
  },
  {
   "cell_type": "code",
   "execution_count": 10,
   "metadata": {},
   "outputs": [
    {
     "name": "stdout",
     "output_type": "stream",
     "text": [
      "Q5: What are the names and department of all employees who do not work in the Sales department?\n",
      "[('Jane Doe', 'Marketing'),\n",
      " ('Emily Wong', 'Engineering'),\n",
      " ('Alex Kim', 'Marketing'),\n",
      " ('Sarah Lee', 'Marketing'),\n",
      " ('Michael Chen', 'Engineering'),\n",
      " ('Brian Wu', 'Marketing')]\n",
      "\n"
     ]
    }
   ],
   "source": [
    "# Question 5: What are the names and department of all employees who do not work in the Sales department?\n",
    "query = \"SELECT E.employee_name, D.department_name FROM employee E INNER JOIN department D ON E.department_id = D.department_id WHERE D.department_name != 'Sales'\"\n",
    "cursor.execute(query)\n",
    "result = cursor.fetchall()\n",
    "print(\"Q5: What are the names and department of all employees who do not work in the Sales department?\")\n",
    "pprint(result)\n",
    "print()"
   ]
  },
  {
   "cell_type": "code",
   "execution_count": 11,
   "metadata": {},
   "outputs": [
    {
     "name": "stdout",
     "output_type": "stream",
     "text": [
      "Q6: What are the names, salary, and hire date of all employees who make more than $60,000 and were hired before 01/01/2022?\n",
      "[('John Smith', 70000, '2018-01-01'),\n",
      " ('Jane Doe', 90000, '2019-03-15'),\n",
      " ('Bob Johnson', 75000, '2020-05-01'),\n",
      " ('Emily Wong', 80000, '2017-09-01'),\n",
      " ('Alex Kim', 95000, '2021-02-15'),\n",
      " ('Michael Chen', 90000, '2020-06-15'),\n",
      " ('David Lee', 78000, '2019-09-01'),\n",
      " ('Amanda Liu', 82000, '2021-03-01'),\n",
      " ('Brian Wu', 88000, '2018-08-01')]\n",
      "\n"
     ]
    }
   ],
   "source": [
    "# Question 6: What are the names, salary, and hire date of all employees who make more than $60,000 and were hired before 01/01/2022?\n",
    "query = \"SELECT employee_name, salary, hire_date FROM employee WHERE salary > 60000 AND hire_date < '2022-01-01'\"\n",
    "cursor.execute(query)\n",
    "result = cursor.fetchall()\n",
    "print(\"Q6: What are the names, salary, and hire date of all employees who make more than $60,000 and were hired before 01/01/2022?\")\n",
    "pprint(result)\n",
    "print()"
   ]
  },
  {
   "cell_type": "code",
   "execution_count": 12,
   "metadata": {},
   "outputs": [
    {
     "name": "stdout",
     "output_type": "stream",
     "text": [
      "Q7: What is the average salary of all employees?\n",
      "[(Decimal('83300.0000'),)]\n",
      "\n"
     ]
    }
   ],
   "source": [
    "# Question 7: What is the average salary of all employees?\n",
    "query = \"SELECT AVG(salary) FROM employee\"\n",
    "cursor.execute(query)\n",
    "result = cursor.fetchall()\n",
    "print(\"Q7: What is the average salary of all employees?\")\n",
    "pprint(result)\n",
    "print()\n"
   ]
  },
  {
   "cell_type": "code",
   "execution_count": 13,
   "metadata": {},
   "outputs": [
    {
     "name": "stdout",
     "output_type": "stream",
     "text": [
      "Q8: What is the highest salary among all employees?\n",
      "[(95000,)]\n",
      "\n"
     ]
    }
   ],
   "source": [
    "# Question 8: What is the highest salary among all employees?\n",
    "query = \"SELECT MAX(salary) FROM employee\"\n",
    "cursor.execute(query)\n",
    "result = cursor.fetchall()\n",
    "print(\"Q8: What is the highest salary among all employees?\")\n",
    "pprint(result)\n",
    "print()"
   ]
  },
  {
   "cell_type": "code",
   "execution_count": 14,
   "metadata": {},
   "outputs": [
    {
     "name": "stdout",
     "output_type": "stream",
     "text": [
      "Q9: What is the total salary of all employees in the Sales and Marketing department?\n",
      "[(Decimal('663000'),)]\n",
      "\n"
     ]
    }
   ],
   "source": [
    "# Question 9: What is the total salary of all employees in the Sales and Marketing department?\n",
    "query = \"SELECT SUM(salary) FROM employee E INNER JOIN department D ON E.department_id = D.department_id WHERE D.department_name IN ('Sales', 'Marketing')\"\n",
    "cursor.execute(query)\n",
    "result = cursor.fetchall()\n",
    "print(\"Q9: What is the total salary of all employees in the Sales and Marketing department?\")\n",
    "pprint(result)\n",
    "print()"
   ]
  },
  {
   "cell_type": "code",
   "execution_count": 15,
   "metadata": {},
   "outputs": [
    {
     "name": "stdout",
     "output_type": "stream",
     "text": [
      "Q10: How many employees have a salary greater than $80,000?\n",
      "[(6,)]\n",
      "\n"
     ]
    }
   ],
   "source": [
    "# Question 10: How many employees have a salary greater than $80,000?\n",
    "query = \"SELECT COUNT(employee_name) FROM employee WHERE salary > 80000\"\n",
    "cursor.execute(query)\n",
    "result = cursor.fetchall()\n",
    "print(\"Q10: How many employees have a salary greater than $80,000?\")\n",
    "pprint(result)\n",
    "print()"
   ]
  },
  {
   "cell_type": "code",
   "execution_count": 16,
   "metadata": {},
   "outputs": [
    {
     "name": "stdout",
     "output_type": "stream",
     "text": [
      "Q11: Find the names of all employees who work in the 'Sales' department.\n",
      "[('John Smith',), ('Bob Johnson',), ('David Lee',), ('Amanda Liu',)]\n",
      "\n"
     ]
    }
   ],
   "source": [
    "# Question 11: Find the names of all employees who work in the 'Sales' department.\n",
    "query = \"SELECT E.employee_name FROM employee E INNER JOIN department D ON E.department_id = D.department_id WHERE D.department_name = 'Sales'\"\n",
    "cursor.execute(query)\n",
    "result = cursor.fetchall()\n",
    "print(\"Q11: Find the names of all employees who work in the 'Sales' department.\")\n",
    "pprint(result)\n",
    "print()"
   ]
  },
  {
   "cell_type": "code",
   "execution_count": 17,
   "metadata": {},
   "outputs": [
    {
     "name": "stdout",
     "output_type": "stream",
     "text": [
      "Q12: Find the department name, hire date, and salary for employee with the ID of 3.\n",
      "[('Sales', '2020-05-01', 75000)]\n",
      "\n"
     ]
    }
   ],
   "source": [
    "# Question 12: Find the department name, hire date, and salary for employee with the ID of 3.\n",
    "query = \"SELECT D.department_name, E.hire_date, E.salary FROM employee E INNER JOIN department D ON E.department_id = D.department_id WHERE E.employee_id = 3\"\n",
    "cursor.execute(query)\n",
    "result = cursor.fetchall()\n",
    "print(\"Q12: Find the department name, hire date, and salary for employee with the ID of 3.\")\n",
    "pprint(result)\n",
    "print()"
   ]
  },
  {
   "cell_type": "code",
   "execution_count": 19,
   "metadata": {},
   "outputs": [
    {
     "name": "stdout",
     "output_type": "stream",
     "text": [
      "Q13: Find the department names and total number of employees in each department.\n",
      "[('Sales', 4), ('Marketing', 4), ('Engineering', 2)]\n",
      "\n"
     ]
    }
   ],
   "source": [
    "# Question 13: Find the department names and total number of employees in each department.\n",
    "query = \"SELECT D.department_name, COUNT(employee_name) AS employee_count FROM employee E INNER JOIN department D ON E.department_id = D.department_id GROUP BY D.department_name\"\n",
    "cursor.execute(query)\n",
    "result = cursor.fetchall()\n",
    "print(\"Q13: Find the department names and total number of employees in each department.\")\n",
    "pprint(result)\n",
    "print()"
   ]
  },
  {
   "cell_type": "code",
   "execution_count": 20,
   "metadata": {},
   "outputs": [
    {
     "name": "stdout",
     "output_type": "stream",
     "text": [
      "Q14: Find the average salary of all employees in the 'Marketing' department.\n",
      "[(Decimal('89500.0000'),)]\n",
      "\n"
     ]
    }
   ],
   "source": [
    "# Question 14: Find the average salary of all employees in the 'Marketing' department.\n",
    "query = \"SELECT AVG(E.salary) AS average_salary FROM employee E INNER JOIN department D on E.department_id = D.department_id WHERE D.department_name = 'Marketing'\"\n",
    "cursor.execute(query)\n",
    "result = cursor.fetchall()\n",
    "print(\"Q14: Find the average salary of all employees in the 'Marketing' department.\")\n",
    "pprint(result)\n",
    "print()"
   ]
  },
  {
   "cell_type": "code",
   "execution_count": 21,
   "metadata": {},
   "outputs": [
    {
     "name": "stdout",
     "output_type": "stream",
     "text": [
      "Q15: Find the names and hire dates of all employees who were hired in 2020 or later.\n",
      "[('Bob Johnson', '2020-05-01'),\n",
      " ('Alex Kim', '2021-02-15'),\n",
      " ('Sarah Lee', '2022-01-01'),\n",
      " ('Michael Chen', '2020-06-15'),\n",
      " ('Amanda Liu', '2021-03-01')]\n",
      "\n"
     ]
    }
   ],
   "source": [
    "# Question 15: Find the names and hire dates of all employees who were hired in 2020 or later.\n",
    "query = \"SELECT E.employee_name, E.hire_date FROM employee E WHERE hire_date > '2019-31-12'\"\n",
    "cursor.execute(query)\n",
    "result = cursor.fetchall()\n",
    "print(\"Q15: Find the names and hire dates of all employees who were hired in 2020 or later.\")\n",
    "pprint(result)\n",
    "print()"
   ]
  },
  {
   "cell_type": "code",
   "execution_count": 26,
   "metadata": {},
   "outputs": [
    {
     "name": "stdout",
     "output_type": "stream",
     "text": [
      "Q16: Find the employee name, job title, start date, and end date for all job changes.\n",
      "[('John Smith', 'Marketing Manager', '2019-05-02', '2020-06-01'),\n",
      " ('John Smith', 'Salesperson', '2018-01-01', '2019-05-01')]\n",
      "\n"
     ]
    }
   ],
   "source": [
    "# Question 16: Find the employee name, job title, start date, and end date for all job changes.\n",
    "query = \"SELECT E.employee_name, J.job_title, JH.start_date, JH.end_date FROM employee E INNER JOIN job_history JH ON E.employee_id = JH.employee_id INNER JOIN job J ON J.job_id = JH.job_id WHERE JH.end_date != ''\"\n",
    "cursor.execute(query)\n",
    "result = cursor.fetchall()\n",
    "print(\"Q16: Find the employee name, job title, start date, and end date for all job changes.\")\n",
    "pprint(result)\n",
    "print()"
   ]
  },
  {
   "cell_type": "code",
   "execution_count": 25,
   "metadata": {},
   "outputs": [
    {
     "name": "stdout",
     "output_type": "stream",
     "text": [
      "Q17: Find the department names and the highest salary for each department.\n",
      "[('Sales', 82000), ('Marketing', 95000), ('Engineering', 90000)]\n",
      "\n"
     ]
    }
   ],
   "source": [
    "# Question 17: Find the department names and the highest salary for each department.\n",
    "query = \"SELECT D.department_name, MAX(E.salary) FROM employee E INNER JOIN department D ON E.department_id = D.department_id GROUP BY D.department_name\"\n",
    "cursor.execute(query)\n",
    "result = cursor.fetchall()\n",
    "print(\"Q17: Find the department names and the highest salary for each department.\")\n",
    "pprint(result)\n",
    "print()"
   ]
  },
  {
   "cell_type": "code",
   "execution_count": 24,
   "metadata": {},
   "outputs": [
    {
     "name": "stdout",
     "output_type": "stream",
     "text": [
      "Q18: Find the total number of employees who have worked in the 'Engineering' department since 2019.\n",
      "[('Michael Chen', 1)]\n",
      "\n"
     ]
    }
   ],
   "source": [
    "# Question 18: Find the total number of employees who have worked in the 'Engineering' department since 2019.\n",
    "query = \"SELECT E.employee_name, COUNT(E.employee_name) num_of_employees FROM employee E INNER JOIN department D ON E.department_id = D.department_id WHERE D.department_name = 'Engineering' AND E.hire_date > '2018-31-12' GROUP BY E.employee_name\"\n",
    "cursor.execute(query)\n",
    "result = cursor.fetchall()\n",
    "print(\"Q18: Find the total number of employees who have worked in the 'Engineering' department since 2019.\")\n",
    "pprint(result)\n",
    "print()"
   ]
  },
  {
   "cell_type": "code",
   "execution_count": 23,
   "metadata": {},
   "outputs": [
    {
     "name": "stdout",
     "output_type": "stream",
     "text": [
      "Q19: Find the employee name, department name, and salary for all employees who earn more than their department average.\n",
      "[('Jane Doe', 'Marketing', 90000),\n",
      " ('Alex Kim', 'Marketing', 95000),\n",
      " ('Michael Chen', 'Engineering', 90000),\n",
      " ('David Lee', 'Sales', 78000),\n",
      " ('Amanda Liu', 'Sales', 82000)]\n",
      "\n"
     ]
    }
   ],
   "source": [
    "# Question 19: Find the employee name, department name, and salary for all employees who earn more than their department average.\n",
    "query = \"SELECT E.employee_name, D.department_name, E.salary FROM employee E INNER JOIN department D on E.department_id = D.department_id INNER JOIN (SELECT department_id, AVG(salary) AS avg_salary FROM employee GROUP BY department_id) AS DA ON E.department_id = DA.department_id WHERE E.salary > DA.avg_salary\"\n",
    "cursor.execute(query)\n",
    "result = cursor.fetchall()\n",
    "print(\"Q19: Find the employee name, department name, and salary for all employees who earn more than their department average.\")\n",
    "pprint(result)\n",
    "print()"
   ]
  },
  {
   "cell_type": "code",
   "execution_count": 22,
   "metadata": {},
   "outputs": [
    {
     "name": "stdout",
     "output_type": "stream",
     "text": [
      "Q20: Find the department names and the number of employees who have been in each department for more than 2 years.\n",
      "[('Sales', 4), ('Marketing', 3), ('Engineering', 2)]\n",
      "\n"
     ]
    }
   ],
   "source": [
    "# Question 20: Find the department names and the number of employees who have been in each department for more than 2 years.\n",
    "query = \"SELECT department.department_name, COUNT(*) AS num_employees FROM employee INNER JOIN department ON employee.department_id = department.department_id WHERE hire_date <= DATE_SUB(NOW(), INTERVAL 2 YEAR) GROUP BY department.department_name\"\n",
    "cursor.execute(query)\n",
    "result = cursor.fetchall()\n",
    "print(\"Q20: Find the department names and the number of employees who have been in each department for more than 2 years.\")\n",
    "pprint(result)\n",
    "print()"
   ]
  },
  {
   "cell_type": "code",
   "execution_count": 4,
   "metadata": {},
   "outputs": [
    {
     "name": "stdout",
     "output_type": "stream",
     "text": [
      "Q21: Retrieve a list of departments along with the total number of employees in each department.\n",
      "[('Sales', 4), ('Marketing', 4), ('Engineering', 2)]\n",
      "\n"
     ]
    }
   ],
   "source": [
    "# Question 21: Retrieve a list of departments along with the total number of employees in each department.\n",
    "query = \"SELECT D.department_name, COUNT(E.employee_id) FROM employee E INNER JOIN department D ON E.department_id = D.department_id GROUP BY department_name;\"\n",
    "cursor.execute(query)\n",
    "result = cursor.fetchall()\n",
    "print(\"Q21: Retrieve a list of departments along with the total number of employees in each department.\")\n",
    "pprint(result)\n",
    "print()"
   ]
  },
  {
   "cell_type": "code",
   "execution_count": 5,
   "metadata": {},
   "outputs": [
    {
     "name": "stdout",
     "output_type": "stream",
     "text": [
      "Q22: Find the average salary of employees hired in the year 2022.\n",
      "[(Decimal('85000.0000'),)]\n",
      "\n"
     ]
    }
   ],
   "source": [
    "# Question 22: Find the average salary of employees hired in the year 2022.\n",
    "query = \"\"\"\n",
    "SELECT AVG(E.Salary) AS AvgSalary2022 \n",
    "FROM employee E \n",
    "WHERE YEAR(E.hire_date) = '2022';\n",
    "\"\"\"\n",
    "cursor.execute(query)\n",
    "result = cursor.fetchall()\n",
    "print(\"Q22: Find the average salary of employees hired in the year 2022.\")\n",
    "pprint(result)\n",
    "print()"
   ]
  },
  {
   "cell_type": "code",
   "execution_count": 6,
   "metadata": {},
   "outputs": [
    {
     "name": "stdout",
     "output_type": "stream",
     "text": [
      "Q23: Identify the department with the highest total salary expenditure.\n",
      "[('Marketing', Decimal('358000')),\n",
      " ('Sales', Decimal('305000')),\n",
      " ('Engineering', Decimal('170000'))]\n",
      "\n"
     ]
    }
   ],
   "source": [
    "# Question 23: Identify the department with the highest total salary expenditure.\n",
    "query = \"\"\"\n",
    "SELECT D.department_name, SUM(E.salary) \n",
    "FROM employee E \n",
    "INNER JOIN department D ON E.department_id = D.department_id\n",
    "GROUP BY department_name ORDER BY SUM(E.salary) DESC;\n",
    "\"\"\"\n",
    "cursor.execute(query)\n",
    "result = cursor.fetchall()\n",
    "print(\"Q23: Identify the department with the highest total salary expenditure.\")\n",
    "pprint(result)\n",
    "print()"
   ]
  },
  {
   "cell_type": "code",
   "execution_count": 7,
   "metadata": {},
   "outputs": [
    {
     "name": "stdout",
     "output_type": "stream",
     "text": [
      "Q24: Retrieve a list of employees who earn more than the average salary in their respective departments.\n",
      "[('Brian Wu', 'Marketing', 88000),\n",
      " ('Michael Chen', 'Engineering', 90000),\n",
      " ('Sarah Lee', 'Marketing', 85000),\n",
      " ('Alex Kim', 'Marketing', 95000),\n",
      " ('Jane Doe', 'Marketing', 90000),\n",
      " ('Brian Wu', 'Marketing', 88000),\n",
      " ('Michael Chen', 'Engineering', 90000),\n",
      " ('Sarah Lee', 'Marketing', 85000),\n",
      " ('Alex Kim', 'Marketing', 95000),\n",
      " ('Jane Doe', 'Marketing', 90000),\n",
      " ('Brian Wu', 'Marketing', 88000),\n",
      " ('Michael Chen', 'Engineering', 90000),\n",
      " ('Sarah Lee', 'Marketing', 85000),\n",
      " ('Alex Kim', 'Marketing', 95000),\n",
      " ('Jane Doe', 'Marketing', 90000)]\n",
      "\n"
     ]
    }
   ],
   "source": [
    "# Question 24: Retrieve a list of employees who earn more than the average salary in their respective departments.\n",
    "query = \"\"\"\n",
    "SELECT E.employee_name, D.department_name, E.salary \n",
    "FROM employee E \n",
    "INNER JOIN department D ON E.department_id = D.department_id \n",
    "JOIN (\n",
    "    SELECT DD.department_id, AVG(EE.salary) AS avg_salary \n",
    "    FROM employee EE, department DD \n",
    "    GROUP BY DD.department_id\n",
    ") AS avg_salaries ON D.department_id = E.department_id \n",
    "WHERE avg_salaries.avg_salary < E.salary;\n",
    "\"\"\"\n",
    "cursor.execute(query)\n",
    "result = cursor.fetchall()\n",
    "print(\"Q24: Retrieve a list of employees who earn more than the average salary in their respective departments.\")\n",
    "pprint(result)\n",
    "print()"
   ]
  },
  {
   "cell_type": "code",
   "execution_count": 8,
   "metadata": {},
   "outputs": [
    {
     "name": "stdout",
     "output_type": "stream",
     "text": [
      "Q25: Find the employee who has the highest salary and the department they belong to.\n",
      "[('Alex Kim', 'Marketing', 95000)]\n",
      "\n"
     ]
    }
   ],
   "source": [
    "# Question 25: Find the employee who has the highest salary and the department they belong to.\n",
    "query = \"\"\"\n",
    "SELECT E.employee_name, D.department_name, E.salary \n",
    "FROM employee E \n",
    "INNER JOIN department D ON E.department_id = D.department_id \n",
    "WHERE E.salary = (SELECT MAX(EE.salary) FROM employee EE);\n",
    "\"\"\"\n",
    "cursor.execute(query)\n",
    "result = cursor.fetchall()\n",
    "print(\"Q25: Find the employee who has the highest salary and the department they belong to.\")\n",
    "pprint(result)\n",
    "print()\n"
   ]
  },
  {
   "cell_type": "code",
   "execution_count": 9,
   "metadata": {},
   "outputs": [
    {
     "name": "stdout",
     "output_type": "stream",
     "text": [
      "Q26: List the employees who have been in their current job for more than three years.\n",
      "[(2, 'Jane Doe', 2, 'Marketing Manager', '2019-03-15'),\n",
      " (4, 'Emily Wong', 3, 'Software Engineer', '2017-09-01'),\n",
      " (8, 'David Lee', 1, 'Salesperson', '2019-09-01'),\n",
      " (10, 'Brian Wu', 2, 'Marketing Manager', '2018-08-01')]\n",
      "\n"
     ]
    }
   ],
   "source": [
    "# Question 26: List the employees who have been in their current job for more than three years.\n",
    "query = \"\"\"\n",
    "SELECT e.employee_id, e.employee_name, jh.job_id, j.job_title, jh.start_date \n",
    "FROM employee e \n",
    "JOIN job_history jh ON e.employee_id = jh.employee_id \n",
    "JOIN job j ON jh.job_id = j.job_id \n",
    "WHERE TIMESTAMPDIFF(YEAR, jh.start_date, CURRENT_DATE) > 3 AND jh.end_date = '';\n",
    "\"\"\"\n",
    "cursor.execute(query)\n",
    "result = cursor.fetchall()\n",
    "print(\"Q26: List the employees who have been in their current job for more than three years.\")\n",
    "pprint(result)\n",
    "print()"
   ]
  },
  {
   "cell_type": "code",
   "execution_count": 10,
   "metadata": {},
   "outputs": [
    {
     "name": "stdout",
     "output_type": "stream",
     "text": [
      "Q27: Display the department names along with the number of distinct job titles in each department.\n",
      "[('Sales', 6), ('Marketing', 4), ('Engineering', 2)]\n",
      "\n"
     ]
    }
   ],
   "source": [
    "# Question 27: Display the department names along with the number of distinct job titles in each department.\n",
    "query = \"\"\"\n",
    "SELECT D.department_name, COUNT(J.job_title) \n",
    "FROM employee E \n",
    "INNER JOIN department D ON E.department_id = D.department_id\n",
    "INNER JOIN job_history JH ON E.employee_id = JH.employee_id\n",
    "INNER JOIN job J ON JH.job_id = J.job_id\n",
    "GROUP BY D.department_name ORDER BY D.department_name DESC;\n",
    "\"\"\"\n",
    "cursor.execute(query)\n",
    "result = cursor.fetchall()\n",
    "print(\"Q27: Display the department names along with the number of distinct job titles in each department.\")\n",
    "pprint(result)\n",
    "print()"
   ]
  },
  {
   "cell_type": "code",
   "execution_count": 13,
   "metadata": {},
   "outputs": [
    {
     "name": "stdout",
     "output_type": "stream",
     "text": [
      "Q28: Find the job title with the highest number of employees.\n",
      "[('Marketing Manager', 5)]\n",
      "\n"
     ]
    }
   ],
   "source": [
    "# Question 28: Find the job title with the highest number of employees.\n",
    "query = \"\"\"\n",
    "SELECT J.job_title, COUNT(J.job_title) \n",
    "FROM employee E\n",
    "INNER JOIN department D ON E.department_id = D.department_id\n",
    "INNER JOIN job_history JH ON E.employee_id = JH.employee_id\n",
    "INNER JOIN job J ON JH.job_id = J.job_id\n",
    "GROUP BY J.job_title ORDER BY COUNT(J.job_title) DESC LIMIT 1;\n",
    "\"\"\"\n",
    "cursor.execute(query)\n",
    "result = cursor.fetchall()\n",
    "print(\"Q28: Find the job title with the highest number of employees.\")\n",
    "pprint(result)\n",
    "print()"
   ]
  },
  {
   "cell_type": "code",
   "execution_count": 12,
   "metadata": {},
   "outputs": [
    {
     "name": "stdout",
     "output_type": "stream",
     "text": [
      "Q29: List employees who have the same job title as the employee with employee_id = 1.\n",
      "[('John Smith', 'Software Engineer'),\n",
      " ('Emily Wong', 'Software Engineer'),\n",
      " ('Michael Chen', 'Software Engineer')]\n",
      "\n"
     ]
    }
   ],
   "source": [
    "# Question 29: List employees who have the same job title as the employee with employee_id = 1.\n",
    "query = \"\"\"\n",
    "SELECT E.employee_name, J.job_title\n",
    "FROM employee E\n",
    "JOIN job_history JH ON E.employee_id = JH.employee_id\n",
    "JOIN job J ON JH.job_id = J.job_id\n",
    "WHERE J.job_id = (\n",
    "    SELECT job_id\n",
    "    FROM job_history\n",
    "    WHERE employee_id = 1 AND end_date = ''\n",
    ");\n",
    "\"\"\"\n",
    "cursor.execute(query)\n",
    "result = cursor.fetchall()\n",
    "print(\"Q29: List employees who have the same job title as the employee with employee_id = 1.\")\n",
    "pprint(result)\n",
    "print()\n"
   ]
  },
  {
   "cell_type": "code",
   "execution_count": 11,
   "metadata": {},
   "outputs": [
    {
     "name": "stdout",
     "output_type": "stream",
     "text": [
      "Q30: Find the department with the fewest employees.\n",
      "[('Engineering', 2)]\n",
      "\n"
     ]
    }
   ],
   "source": [
    "# Question 30: Find the department with the fewest employees.\n",
    "query = \"\"\"\n",
    "SELECT D.department_name, COUNT(E.employee_id) AS EmployeeCount\n",
    "FROM employee E\n",
    "INNER JOIN department D ON E.department_id = D.department_id\n",
    "GROUP BY department_name ORDER BY EmployeeCount ASC limit 1;\n",
    "\"\"\"\n",
    "cursor.execute(query)\n",
    "result = cursor.fetchall()\n",
    "print(\"Q30: Find the department with the fewest employees.\")\n",
    "pprint(result)\n",
    "print()"
   ]
  },
  {
   "cell_type": "code",
   "execution_count": 14,
   "metadata": {},
   "outputs": [
    {
     "name": "stdout",
     "output_type": "stream",
     "text": [
      "Q31: Display the employee names and their job titles for employees who were hired after employee with employee_id = 5.\n",
      "[('Sarah Lee', 'Marketing Manager'), ('Amanda Liu', 'Salesperson')]\n",
      "\n"
     ]
    }
   ],
   "source": [
    "# Question 31: Display the employee names and their job titles for employees who were hired after employee with employee_id = 5.\n",
    "query = \"\"\"\n",
    "SELECT E.employee_name, J.job_title \n",
    "FROM employee E\n",
    "INNER JOIN job_history JH ON E.employee_id = JH.employee_id\n",
    "INNER JOIN job J ON JH.job_id = J.job_id\n",
    "WHERE JH.start_date > \n",
    "    (SELECT start_date FROM \n",
    "        job_history WHERE \n",
    "        employee_id = 5 AND end_date = '')\n",
    "\"\"\"\n",
    "cursor.execute(query)\n",
    "result = cursor.fetchall()\n",
    "print(\"Q31: Display the employee names and their job titles for employees who were hired after employee with employee_id = 5.\")\n",
    "pprint(result)\n",
    "print()"
   ]
  },
  {
   "cell_type": "code",
   "execution_count": 15,
   "metadata": {},
   "outputs": [
    {
     "name": "stdout",
     "output_type": "stream",
     "text": [
      "Q32: Retrieve the job titles and the total number of employees in each job title, but exclude job titles with fewer than 3 employees.\n",
      "[('Marketing Manager', 5), ('Salesperson', 4)]\n",
      "\n"
     ]
    }
   ],
   "source": [
    "# Question 32: Retrieve the job titles and the total number of employees in each job title, but exclude job titles with fewer than 3 employees.\n",
    "query = \"\"\"\n",
    "SELECT J.job_title, COUNT(E.employee_id) EmployeeCount \n",
    "FROM employee E\n",
    "INNER JOIN job_history JH ON E.employee_id = JH.employee_id\n",
    "INNER JOIN job J ON JH.job_id = J.job_id \n",
    "GROUP BY J.job_title HAVING EmployeeCount > 3;\n",
    "\"\"\"\n",
    "cursor.execute(query)\n",
    "result = cursor.fetchall()\n",
    "print(\"Q32: Retrieve the job titles and the total number of employees in each job title, but exclude job titles with fewer than 3 employees.\")\n",
    "pprint(result)\n",
    "print()\n"
   ]
  },
  {
   "cell_type": "code",
   "execution_count": 17,
   "metadata": {},
   "outputs": [
    {
     "data": {
      "text/plain": [
       "<function print(*args, sep=' ', end='\\n', file=None, flush=False)>"
      ]
     },
     "execution_count": 17,
     "metadata": {},
     "output_type": "execute_result"
    }
   ],
   "source": [
    "# Question 33: Find the departments where the average salary is above the overall average salary across all departments.\n",
    "query = \"\"\"\n",
    "SELECT D.department_name, AVG(E.salary) AS average_salary \n",
    "FROM employee E \n",
    "INNER JOIN department D ON D.department_id = E.department_id \n",
    "GROUP BY D.department_name \n",
    "HAVING average_salary > (SELECT AVG(salary) FROM employee);\n",
    "\"\"\"\n",
    "cursor.execute(query)\n",
    "result = cursor.fetchall()\n",
    "print(\"Q33: Find the departments where the average salary is above the overall average salary across all departments.\")\n",
    "pprint(result)\n",
    "print()"
   ]
  }
 ],
 "metadata": {
  "kernelspec": {
   "display_name": "Python 3",
   "language": "python",
   "name": "python3"
  },
  "language_info": {
   "codemirror_mode": {
    "name": "ipython",
    "version": 3
   },
   "file_extension": ".py",
   "mimetype": "text/x-python",
   "name": "python",
   "nbconvert_exporter": "python",
   "pygments_lexer": "ipython3",
   "version": "3.11.2"
  },
  "orig_nbformat": 4
 },
 "nbformat": 4,
 "nbformat_minor": 2
}
